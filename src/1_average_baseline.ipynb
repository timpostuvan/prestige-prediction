{
 "cells": [
  {
   "cell_type": "code",
   "execution_count": 1,
   "metadata": {},
   "outputs": [],
   "source": [
    "import numpy as np\n",
    "\n",
    "import torch\n",
    "from sklearn.metrics import mean_squared_error\n",
    "from torch_geometric.loader import DataLoader\n",
    "\n",
    "from utils import set_all_seeds\n",
    "\n",
    "from exploration.dataset import PyGAcademicGraph\n",
    "\n",
    "set_all_seeds(seed=4)"
   ]
  },
  {
   "cell_type": "code",
   "execution_count": 2,
   "metadata": {},
   "outputs": [
    {
     "name": "stdout",
     "output_type": "stream",
     "text": [
      "Number of samples in the train dataset:  9\n",
      "Number of samples in the val dataset:  9\n",
      "Number of samples in the test dataset:  9\n",
      "Output of one sample from the train dataset:  Data(edge_index=[2, 36936], y=[359], x=[359, 8], edge_attr=[36936, 3], domain='Academia', train_mask=[359], val_mask=[359], test_mask=[359], mask=[359])\n",
      "Edge_index :\n",
      "tensor([[  0,   0,   0,  ..., 357, 358, 358],\n",
      "        [  1,  89, 121,  ..., 352,  89, 358]])\n",
      "Number of features per node:  8\n"
     ]
    }
   ],
   "source": [
    "batch_size = 1\n",
    "\n",
    "# train dataset\n",
    "train_dataset = PyGAcademicGraph(split=\"train\", setting=\"transductive\")\n",
    "train_dataloader = DataLoader(train_dataset, batch_size=batch_size)\n",
    "\n",
    "# val dataset\n",
    "val_dataset = PyGAcademicGraph(split=\"val\", setting=\"transductive\")\n",
    "val_dataloader = DataLoader(val_dataset, batch_size=batch_size)\n",
    "\n",
    "# test dataset\n",
    "test_dataset = PyGAcademicGraph(split=\"test\", setting=\"transductive\")\n",
    "test_dataloader = DataLoader(test_dataset, batch_size=batch_size)\n",
    "\n",
    "# number of features\n",
    "n_features = train_dataset[0].x.shape[1]\n",
    "\n",
    "print(\"Number of samples in the train dataset: \", len(train_dataset))\n",
    "print(\"Number of samples in the val dataset: \", len(test_dataset))\n",
    "print(\"Number of samples in the test dataset: \", len(test_dataset))\n",
    "print(\"Output of one sample from the train dataset: \", train_dataset[0])\n",
    "print(\"Edge_index :\")\n",
    "print(train_dataset[0].edge_index)\n",
    "print(\"Number of features per node: \", n_features)"
   ]
  },
  {
   "cell_type": "code",
   "execution_count": 3,
   "metadata": {},
   "outputs": [],
   "source": [
    "# calculate average on training set\n",
    "total_sum = 0\n",
    "total_num = 0\n",
    "for i, train_batch in enumerate(train_dataloader):\n",
    "    mask = train_batch.mask\n",
    "    total_sum += torch.sum(train_batch.y[mask])\n",
    "    total_num += torch.sum((mask == True).float())\n",
    "\n",
    "average = (total_sum / total_num).item()"
   ]
  },
  {
   "cell_type": "code",
   "execution_count": 4,
   "metadata": {},
   "outputs": [],
   "source": [
    "def evaluate_average(average, dataloader):\n",
    "    all_predictions, all_labels = [], []\n",
    "\n",
    "    for i, batch in enumerate(dataloader):\n",
    "        mask = batch.mask\n",
    "        num = torch.sum((mask == True).int())\n",
    "        all_predictions.append(np.ones(num) * average)\n",
    "        all_labels.append(batch.y[mask].detach().cpu().numpy())\n",
    "    \n",
    "    all_predictions = np.concatenate(all_predictions)\n",
    "    all_labels = np.concatenate(all_labels)\n",
    "    return mean_squared_error(all_labels, all_predictions)"
   ]
  },
  {
   "cell_type": "code",
   "execution_count": 5,
   "metadata": {},
   "outputs": [
    {
     "name": "stdout",
     "output_type": "stream",
     "text": [
      "Average : MSE on the test set: 0.0381\n"
     ]
    }
   ],
   "source": [
    "\n",
    "MSE_test = evaluate_average(average, test_dataloader)\n",
    "print(\"Average : MSE on the test set: {:.4f}\".format(MSE_test))"
   ]
  }
 ],
 "metadata": {
  "kernelspec": {
   "display_name": "pytorch",
   "language": "python",
   "name": "python3"
  },
  "language_info": {
   "codemirror_mode": {
    "name": "ipython",
    "version": 3
   },
   "file_extension": ".py",
   "mimetype": "text/x-python",
   "name": "python",
   "nbconvert_exporter": "python",
   "pygments_lexer": "ipython3",
   "version": "3.10.11"
  },
  "orig_nbformat": 4
 },
 "nbformat": 4,
 "nbformat_minor": 2
}
